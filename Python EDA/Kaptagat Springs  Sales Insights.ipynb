{
 "cells": [
  {
   "cell_type": "markdown",
   "id": "fdd824dd-ee35-4a2f-9f82-30d054254676",
   "metadata": {},
   "source": [
    "# Kaptagat Sales Insights \n",
    "\n",
    "## Objective is to expore the sales dataset and determing the top selling products and our top customers"
   ]
  },
  {
   "cell_type": "code",
   "execution_count": 1,
   "id": "71010a7c-a203-473a-ad18-8fd297436f72",
   "metadata": {},
   "outputs": [
    {
     "data": {
      "text/html": [
       "<div>\n",
       "<style scoped>\n",
       "    .dataframe tbody tr th:only-of-type {\n",
       "        vertical-align: middle;\n",
       "    }\n",
       "\n",
       "    .dataframe tbody tr th {\n",
       "        vertical-align: top;\n",
       "    }\n",
       "\n",
       "    .dataframe thead th {\n",
       "        text-align: right;\n",
       "    }\n",
       "</style>\n",
       "<table border=\"1\" class=\"dataframe\">\n",
       "  <thead>\n",
       "    <tr style=\"text-align: right;\">\n",
       "      <th></th>\n",
       "      <th>ORDERNUMBER</th>\n",
       "      <th>QUANTITYORDERED</th>\n",
       "      <th>PRICEEACH</th>\n",
       "      <th>ORDERLINENUMBER</th>\n",
       "      <th>SALES</th>\n",
       "      <th>ORDERDATE</th>\n",
       "      <th>ORDERDATE.1</th>\n",
       "      <th>STATUS</th>\n",
       "      <th>QTR_ID</th>\n",
       "      <th>MONTH_ID</th>\n",
       "      <th>YEAR_ID</th>\n",
       "      <th>PRODUCTLINE</th>\n",
       "      <th>MSRP</th>\n",
       "      <th>PRODUCTCODE</th>\n",
       "      <th>CUSTOMERNAME</th>\n",
       "    </tr>\n",
       "  </thead>\n",
       "  <tbody>\n",
       "    <tr>\n",
       "      <th>0</th>\n",
       "      <td>10100</td>\n",
       "      <td>30</td>\n",
       "      <td>30</td>\n",
       "      <td>3</td>\n",
       "      <td>90</td>\n",
       "      <td>1/6/2003 0:00</td>\n",
       "      <td>1/6/2013 0:00</td>\n",
       "      <td>Shipped</td>\n",
       "      <td>1</td>\n",
       "      <td>1</td>\n",
       "      <td>2013</td>\n",
       "      <td>500 ml</td>\n",
       "      <td>170</td>\n",
       "      <td>S18_1749</td>\n",
       "      <td>Sirikwa Hotel</td>\n",
       "    </tr>\n",
       "    <tr>\n",
       "      <th>1</th>\n",
       "      <td>10100</td>\n",
       "      <td>50</td>\n",
       "      <td>30</td>\n",
       "      <td>2</td>\n",
       "      <td>60</td>\n",
       "      <td>1/6/2003 0:00</td>\n",
       "      <td>1/6/2013 0:00</td>\n",
       "      <td>Shipped</td>\n",
       "      <td>1</td>\n",
       "      <td>1</td>\n",
       "      <td>2013</td>\n",
       "      <td>500 ml</td>\n",
       "      <td>60</td>\n",
       "      <td>S18_2248</td>\n",
       "      <td>Sirikwa Hotel</td>\n",
       "    </tr>\n",
       "    <tr>\n",
       "      <th>2</th>\n",
       "      <td>10100</td>\n",
       "      <td>22</td>\n",
       "      <td>30</td>\n",
       "      <td>4</td>\n",
       "      <td>120</td>\n",
       "      <td>1/6/2003 0:00</td>\n",
       "      <td>1/6/2013 0:00</td>\n",
       "      <td>Shipped</td>\n",
       "      <td>1</td>\n",
       "      <td>1</td>\n",
       "      <td>2013</td>\n",
       "      <td>500 ml</td>\n",
       "      <td>92</td>\n",
       "      <td>S18_4409</td>\n",
       "      <td>Sirikwa Hotel</td>\n",
       "    </tr>\n",
       "    <tr>\n",
       "      <th>3</th>\n",
       "      <td>10100</td>\n",
       "      <td>49</td>\n",
       "      <td>30</td>\n",
       "      <td>1</td>\n",
       "      <td>30</td>\n",
       "      <td>1/6/2003 0:00</td>\n",
       "      <td>1/6/2013 0:00</td>\n",
       "      <td>Shipped</td>\n",
       "      <td>1</td>\n",
       "      <td>1</td>\n",
       "      <td>2013</td>\n",
       "      <td>500 ml</td>\n",
       "      <td>41</td>\n",
       "      <td>S24_3969</td>\n",
       "      <td>Sirikwa Hotel</td>\n",
       "    </tr>\n",
       "    <tr>\n",
       "      <th>4</th>\n",
       "      <td>10101</td>\n",
       "      <td>25</td>\n",
       "      <td>30</td>\n",
       "      <td>4</td>\n",
       "      <td>120</td>\n",
       "      <td>1/9/2003 0:00</td>\n",
       "      <td>1/9/2013 0:00</td>\n",
       "      <td>Shipped</td>\n",
       "      <td>1</td>\n",
       "      <td>1</td>\n",
       "      <td>2013</td>\n",
       "      <td>500 ml</td>\n",
       "      <td>127</td>\n",
       "      <td>S18_2325</td>\n",
       "      <td>Sirikwa Hotel</td>\n",
       "    </tr>\n",
       "    <tr>\n",
       "      <th>5</th>\n",
       "      <td>10101</td>\n",
       "      <td>26</td>\n",
       "      <td>30</td>\n",
       "      <td>1</td>\n",
       "      <td>30</td>\n",
       "      <td>1/9/2003 0:00</td>\n",
       "      <td>1/9/2013 0:00</td>\n",
       "      <td>Shipped</td>\n",
       "      <td>1</td>\n",
       "      <td>1</td>\n",
       "      <td>2013</td>\n",
       "      <td>500 ml</td>\n",
       "      <td>168</td>\n",
       "      <td>S18_2795</td>\n",
       "      <td>Sirikwa Hotel</td>\n",
       "    </tr>\n",
       "  </tbody>\n",
       "</table>\n",
       "</div>"
      ],
      "text/plain": [
       "   ORDERNUMBER  QUANTITYORDERED  PRICEEACH  ORDERLINENUMBER SALES  \\\n",
       "0        10100               30         30                3    90   \n",
       "1        10100               50         30                2    60   \n",
       "2        10100               22         30                4   120   \n",
       "3        10100               49         30                1    30   \n",
       "4        10101               25         30                4   120   \n",
       "5        10101               26         30                1    30   \n",
       "\n",
       "       ORDERDATE    ORDERDATE.1   STATUS  QTR_ID  MONTH_ID  YEAR_ID  \\\n",
       "0  1/6/2003 0:00  1/6/2013 0:00  Shipped       1         1     2013   \n",
       "1  1/6/2003 0:00  1/6/2013 0:00  Shipped       1         1     2013   \n",
       "2  1/6/2003 0:00  1/6/2013 0:00  Shipped       1         1     2013   \n",
       "3  1/6/2003 0:00  1/6/2013 0:00  Shipped       1         1     2013   \n",
       "4  1/9/2003 0:00  1/9/2013 0:00  Shipped       1         1     2013   \n",
       "5  1/9/2003 0:00  1/9/2013 0:00  Shipped       1         1     2013   \n",
       "\n",
       "  PRODUCTLINE  MSRP PRODUCTCODE   CUSTOMERNAME  \n",
       "0      500 ml   170    S18_1749  Sirikwa Hotel  \n",
       "1      500 ml    60    S18_2248  Sirikwa Hotel  \n",
       "2      500 ml    92    S18_4409  Sirikwa Hotel  \n",
       "3      500 ml    41    S24_3969  Sirikwa Hotel  \n",
       "4      500 ml   127    S18_2325  Sirikwa Hotel  \n",
       "5      500 ml   168    S18_2795  Sirikwa Hotel  "
      ]
     },
     "execution_count": 1,
     "metadata": {},
     "output_type": "execute_result"
    }
   ],
   "source": [
    "# Load in some packages\n",
    "import calendar\n",
    "import pandas as pd\n",
    "import matplotlib.pyplot as plt\n",
    "import warnings\n",
    "warnings.filterwarnings(\"ignore\")\n",
    "\n",
    "# load dataset\n",
    "kaptagat_df =pd.read_csv(r\"C:\\Users\\john\\Documents\\Kaptagat Springs Sales Insights.csv\")  \n",
    "kaptagat_df.head(6)"
   ]
  },
  {
   "cell_type": "markdown",
   "id": "4276f0ac-6805-4f94-90fa-7f6d1026bee8",
   "metadata": {},
   "source": [
    "After getting a sense of the data's structure, it is a good idea to look at a statistical summary of the variables with kaptagat_df.describe()"
   ]
  },
  {
   "cell_type": "code",
   "execution_count": 2,
   "id": "638e265f-bbc8-4a46-b0d5-942ee436ac91",
   "metadata": {},
   "outputs": [
    {
     "data": {
      "text/html": [
       "<div>\n",
       "<style scoped>\n",
       "    .dataframe tbody tr th:only-of-type {\n",
       "        vertical-align: middle;\n",
       "    }\n",
       "\n",
       "    .dataframe tbody tr th {\n",
       "        vertical-align: top;\n",
       "    }\n",
       "\n",
       "    .dataframe thead th {\n",
       "        text-align: right;\n",
       "    }\n",
       "</style>\n",
       "<table border=\"1\" class=\"dataframe\">\n",
       "  <thead>\n",
       "    <tr style=\"text-align: right;\">\n",
       "      <th></th>\n",
       "      <th>ORDERNUMBER</th>\n",
       "      <th>QUANTITYORDERED</th>\n",
       "      <th>PRICEEACH</th>\n",
       "      <th>ORDERLINENUMBER</th>\n",
       "      <th>QTR_ID</th>\n",
       "      <th>MONTH_ID</th>\n",
       "      <th>YEAR_ID</th>\n",
       "      <th>MSRP</th>\n",
       "    </tr>\n",
       "  </thead>\n",
       "  <tbody>\n",
       "    <tr>\n",
       "      <th>count</th>\n",
       "      <td>2823.000000</td>\n",
       "      <td>2823.000000</td>\n",
       "      <td>2823.000000</td>\n",
       "      <td>2823.000000</td>\n",
       "      <td>2823.000000</td>\n",
       "      <td>2823.000000</td>\n",
       "      <td>2823.00000</td>\n",
       "      <td>2823.000000</td>\n",
       "    </tr>\n",
       "    <tr>\n",
       "      <th>mean</th>\n",
       "      <td>10258.725115</td>\n",
       "      <td>35.092809</td>\n",
       "      <td>308.345731</td>\n",
       "      <td>6.466171</td>\n",
       "      <td>2.717676</td>\n",
       "      <td>7.092455</td>\n",
       "      <td>2013.81509</td>\n",
       "      <td>100.715551</td>\n",
       "    </tr>\n",
       "    <tr>\n",
       "      <th>std</th>\n",
       "      <td>92.085478</td>\n",
       "      <td>9.741443</td>\n",
       "      <td>417.564793</td>\n",
       "      <td>4.225841</td>\n",
       "      <td>1.203878</td>\n",
       "      <td>3.656633</td>\n",
       "      <td>0.69967</td>\n",
       "      <td>40.187912</td>\n",
       "    </tr>\n",
       "    <tr>\n",
       "      <th>min</th>\n",
       "      <td>10100.000000</td>\n",
       "      <td>6.000000</td>\n",
       "      <td>25.000000</td>\n",
       "      <td>1.000000</td>\n",
       "      <td>1.000000</td>\n",
       "      <td>1.000000</td>\n",
       "      <td>2013.00000</td>\n",
       "      <td>33.000000</td>\n",
       "    </tr>\n",
       "    <tr>\n",
       "      <th>25%</th>\n",
       "      <td>10180.000000</td>\n",
       "      <td>27.000000</td>\n",
       "      <td>30.000000</td>\n",
       "      <td>3.000000</td>\n",
       "      <td>2.000000</td>\n",
       "      <td>4.000000</td>\n",
       "      <td>2013.00000</td>\n",
       "      <td>68.000000</td>\n",
       "    </tr>\n",
       "    <tr>\n",
       "      <th>50%</th>\n",
       "      <td>10262.000000</td>\n",
       "      <td>35.000000</td>\n",
       "      <td>250.000000</td>\n",
       "      <td>6.000000</td>\n",
       "      <td>3.000000</td>\n",
       "      <td>8.000000</td>\n",
       "      <td>2014.00000</td>\n",
       "      <td>99.000000</td>\n",
       "    </tr>\n",
       "    <tr>\n",
       "      <th>75%</th>\n",
       "      <td>10333.500000</td>\n",
       "      <td>43.000000</td>\n",
       "      <td>250.000000</td>\n",
       "      <td>9.000000</td>\n",
       "      <td>4.000000</td>\n",
       "      <td>11.000000</td>\n",
       "      <td>2014.00000</td>\n",
       "      <td>124.000000</td>\n",
       "    </tr>\n",
       "    <tr>\n",
       "      <th>max</th>\n",
       "      <td>10425.000000</td>\n",
       "      <td>97.000000</td>\n",
       "      <td>1400.000000</td>\n",
       "      <td>18.000000</td>\n",
       "      <td>4.000000</td>\n",
       "      <td>12.000000</td>\n",
       "      <td>2015.00000</td>\n",
       "      <td>214.000000</td>\n",
       "    </tr>\n",
       "  </tbody>\n",
       "</table>\n",
       "</div>"
      ],
      "text/plain": [
       "        ORDERNUMBER  QUANTITYORDERED    PRICEEACH  ORDERLINENUMBER  \\\n",
       "count   2823.000000      2823.000000  2823.000000      2823.000000   \n",
       "mean   10258.725115        35.092809   308.345731         6.466171   \n",
       "std       92.085478         9.741443   417.564793         4.225841   \n",
       "min    10100.000000         6.000000    25.000000         1.000000   \n",
       "25%    10180.000000        27.000000    30.000000         3.000000   \n",
       "50%    10262.000000        35.000000   250.000000         6.000000   \n",
       "75%    10333.500000        43.000000   250.000000         9.000000   \n",
       "max    10425.000000        97.000000  1400.000000        18.000000   \n",
       "\n",
       "            QTR_ID     MONTH_ID     YEAR_ID         MSRP  \n",
       "count  2823.000000  2823.000000  2823.00000  2823.000000  \n",
       "mean      2.717676     7.092455  2013.81509   100.715551  \n",
       "std       1.203878     3.656633     0.69967    40.187912  \n",
       "min       1.000000     1.000000  2013.00000    33.000000  \n",
       "25%       2.000000     4.000000  2013.00000    68.000000  \n",
       "50%       3.000000     8.000000  2014.00000    99.000000  \n",
       "75%       4.000000    11.000000  2014.00000   124.000000  \n",
       "max       4.000000    12.000000  2015.00000   214.000000  "
      ]
     },
     "execution_count": 2,
     "metadata": {},
     "output_type": "execute_result"
    }
   ],
   "source": [
    "kaptagat_df.describe()"
   ]
  },
  {
   "cell_type": "code",
   "execution_count": 3,
   "id": "58c9c345-9b0a-4071-ba2a-98aaac1411a2",
   "metadata": {},
   "outputs": [
    {
     "name": "stdout",
     "output_type": "stream",
     "text": [
      "ORDERNUMBER        0\n",
      "QUANTITYORDERED    0\n",
      "PRICEEACH          0\n",
      "ORDERLINENUMBER    0\n",
      "SALES              0\n",
      "ORDERDATE          0\n",
      "ORDERDATE.1        0\n",
      "STATUS             0\n",
      "QTR_ID             0\n",
      "MONTH_ID           0\n",
      "YEAR_ID            0\n",
      "PRODUCTLINE        0\n",
      "MSRP               0\n",
      "PRODUCTCODE        0\n",
      "CUSTOMERNAME       0\n",
      "dtype: int64\n"
     ]
    }
   ],
   "source": [
    "# lets  check for missing values\n",
    "missing_values  = kaptagat_df.isna().sum()\n",
    "print(missing_values)"
   ]
  },
  {
   "cell_type": "code",
   "execution_count": 4,
   "id": "fb2f9d5d-17a7-45af-a81c-1cd0f4ac39db",
   "metadata": {},
   "outputs": [
    {
     "name": "stdout",
     "output_type": "stream",
     "text": [
      "<class 'pandas.core.frame.DataFrame'>\n",
      "RangeIndex: 2823 entries, 0 to 2822\n",
      "Data columns (total 15 columns):\n",
      " #   Column           Non-Null Count  Dtype \n",
      "---  ------           --------------  ----- \n",
      " 0   ORDERNUMBER      2823 non-null   int64 \n",
      " 1   QUANTITYORDERED  2823 non-null   int64 \n",
      " 2   PRICEEACH        2823 non-null   int64 \n",
      " 3   ORDERLINENUMBER  2823 non-null   int64 \n",
      " 4   SALES            2823 non-null   object\n",
      " 5   ORDERDATE        2823 non-null   object\n",
      " 6   ORDERDATE.1      2823 non-null   object\n",
      " 7   STATUS           2823 non-null   object\n",
      " 8   QTR_ID           2823 non-null   int64 \n",
      " 9   MONTH_ID         2823 non-null   int64 \n",
      " 10  YEAR_ID          2823 non-null   int64 \n",
      " 11  PRODUCTLINE      2823 non-null   object\n",
      " 12  MSRP             2823 non-null   int64 \n",
      " 13  PRODUCTCODE      2823 non-null   object\n",
      " 14  CUSTOMERNAME     2823 non-null   object\n",
      "dtypes: int64(8), object(7)\n",
      "memory usage: 330.9+ KB\n"
     ]
    }
   ],
   "source": [
    "# lets check the data types\n",
    "kaptagat_df.info()"
   ]
  },
  {
   "cell_type": "code",
   "execution_count": 5,
   "id": "70d630d7-790a-486a-a07d-aa99241c3a06",
   "metadata": {},
   "outputs": [],
   "source": [
    "kaptagat_df['ORDERDATE.1'] = pd.to_datetime(kaptagat_df['ORDERDATE.1'])"
   ]
  },
  {
   "cell_type": "code",
   "execution_count": 6,
   "id": "6453efd1-0281-431e-829f-14b05f789543",
   "metadata": {},
   "outputs": [
    {
     "name": "stdout",
     "output_type": "stream",
     "text": [
      "<class 'pandas.core.frame.DataFrame'>\n",
      "RangeIndex: 2823 entries, 0 to 2822\n",
      "Data columns (total 15 columns):\n",
      " #   Column           Non-Null Count  Dtype         \n",
      "---  ------           --------------  -----         \n",
      " 0   ORDERNUMBER      2823 non-null   int64         \n",
      " 1   QUANTITYORDERED  2823 non-null   int64         \n",
      " 2   PRICEEACH        2823 non-null   int64         \n",
      " 3   ORDERLINENUMBER  2823 non-null   int64         \n",
      " 4   SALES            2823 non-null   object        \n",
      " 5   ORDERDATE        2823 non-null   object        \n",
      " 6   ORDERDATE.1      2823 non-null   datetime64[ns]\n",
      " 7   STATUS           2823 non-null   object        \n",
      " 8   QTR_ID           2823 non-null   int64         \n",
      " 9   MONTH_ID         2823 non-null   int64         \n",
      " 10  YEAR_ID          2823 non-null   int64         \n",
      " 11  PRODUCTLINE      2823 non-null   object        \n",
      " 12  MSRP             2823 non-null   int64         \n",
      " 13  PRODUCTCODE      2823 non-null   object        \n",
      " 14  CUSTOMERNAME     2823 non-null   object        \n",
      "dtypes: datetime64[ns](1), int64(8), object(6)\n",
      "memory usage: 330.9+ KB\n"
     ]
    }
   ],
   "source": [
    "# lets check the data types\n",
    "kaptagat_df.info()"
   ]
  },
  {
   "cell_type": "code",
   "execution_count": 7,
   "id": "b74e8cd3-bfca-45b3-a50b-3b9bd01f45a5",
   "metadata": {},
   "outputs": [
    {
     "data": {
      "text/plain": [
       "count    2823.000000\n",
       "mean        7.092455\n",
       "std         3.656633\n",
       "min         1.000000\n",
       "25%         4.000000\n",
       "50%         8.000000\n",
       "75%        11.000000\n",
       "max        12.000000\n",
       "Name: Month, dtype: float64"
      ]
     },
     "execution_count": 7,
     "metadata": {},
     "output_type": "execute_result"
    }
   ],
   "source": [
    "# Let's create a new variable, Month, from 'Order Date':\n",
    "\n",
    "kaptagat_df['Month'] = kaptagat_df['ORDERDATE.1'].dt.month\n",
    "kaptagat_df['Month'].describe()"
   ]
  },
  {
   "cell_type": "code",
   "execution_count": 8,
   "id": "1f4ac0b9-bec3-48da-a1ae-9297451b2c9b",
   "metadata": {},
   "outputs": [],
   "source": [
    "# Remove commas and convert to float\n",
    "kaptagat_df['SALES'] = kaptagat_df['SALES'].str.replace(',', '').astype(float)\n",
    "\n",
    "# Convert to int\n",
    "kaptagat_df['SALES'] = kaptagat_df['SALES'].astype(int)\n",
    "\n"
   ]
  },
  {
   "cell_type": "code",
   "execution_count": 9,
   "id": "8c1fe164-0bf2-4852-8e5f-b55a592e93d7",
   "metadata": {},
   "outputs": [
    {
     "name": "stdout",
     "output_type": "stream",
     "text": [
      "<class 'pandas.core.frame.DataFrame'>\n",
      "RangeIndex: 2823 entries, 0 to 2822\n",
      "Data columns (total 16 columns):\n",
      " #   Column           Non-Null Count  Dtype         \n",
      "---  ------           --------------  -----         \n",
      " 0   ORDERNUMBER      2823 non-null   int64         \n",
      " 1   QUANTITYORDERED  2823 non-null   int64         \n",
      " 2   PRICEEACH        2823 non-null   int64         \n",
      " 3   ORDERLINENUMBER  2823 non-null   int64         \n",
      " 4   SALES            2823 non-null   int32         \n",
      " 5   ORDERDATE        2823 non-null   object        \n",
      " 6   ORDERDATE.1      2823 non-null   datetime64[ns]\n",
      " 7   STATUS           2823 non-null   object        \n",
      " 8   QTR_ID           2823 non-null   int64         \n",
      " 9   MONTH_ID         2823 non-null   int64         \n",
      " 10  YEAR_ID          2823 non-null   int64         \n",
      " 11  PRODUCTLINE      2823 non-null   object        \n",
      " 12  MSRP             2823 non-null   int64         \n",
      " 13  PRODUCTCODE      2823 non-null   object        \n",
      " 14  CUSTOMERNAME     2823 non-null   object        \n",
      " 15  Month            2823 non-null   int32         \n",
      "dtypes: datetime64[ns](1), int32(2), int64(8), object(5)\n",
      "memory usage: 330.9+ KB\n"
     ]
    }
   ],
   "source": [
    "# lets check the data types\n",
    "kaptagat_df.info()"
   ]
  },
  {
   "cell_type": "code",
   "execution_count": 10,
   "id": "c1601d8c-a00c-41e8-9bc0-6d77d2b9075e",
   "metadata": {},
   "outputs": [
    {
     "data": {
      "text/html": [
       "<div>\n",
       "<style scoped>\n",
       "    .dataframe tbody tr th:only-of-type {\n",
       "        vertical-align: middle;\n",
       "    }\n",
       "\n",
       "    .dataframe tbody tr th {\n",
       "        vertical-align: top;\n",
       "    }\n",
       "\n",
       "    .dataframe thead th {\n",
       "        text-align: right;\n",
       "    }\n",
       "</style>\n",
       "<table border=\"1\" class=\"dataframe\">\n",
       "  <thead>\n",
       "    <tr style=\"text-align: right;\">\n",
       "      <th></th>\n",
       "      <th>ORDERNUMBER</th>\n",
       "      <th>QUANTITYORDERED</th>\n",
       "      <th>PRICEEACH</th>\n",
       "      <th>ORDERLINENUMBER</th>\n",
       "      <th>SALES</th>\n",
       "      <th>ORDERDATE</th>\n",
       "      <th>ORDERDATE.1</th>\n",
       "      <th>STATUS</th>\n",
       "      <th>QTR_ID</th>\n",
       "      <th>MONTH_ID</th>\n",
       "      <th>YEAR_ID</th>\n",
       "      <th>PRODUCTLINE</th>\n",
       "      <th>MSRP</th>\n",
       "      <th>PRODUCTCODE</th>\n",
       "      <th>CUSTOMERNAME</th>\n",
       "      <th>Month</th>\n",
       "    </tr>\n",
       "  </thead>\n",
       "  <tbody>\n",
       "    <tr>\n",
       "      <th>0</th>\n",
       "      <td>10100</td>\n",
       "      <td>30</td>\n",
       "      <td>30</td>\n",
       "      <td>3</td>\n",
       "      <td>90</td>\n",
       "      <td>1/6/2003 0:00</td>\n",
       "      <td>2013-01-06</td>\n",
       "      <td>Shipped</td>\n",
       "      <td>1</td>\n",
       "      <td>1</td>\n",
       "      <td>2013</td>\n",
       "      <td>500 ml</td>\n",
       "      <td>170</td>\n",
       "      <td>S18_1749</td>\n",
       "      <td>Sirikwa Hotel</td>\n",
       "      <td>1</td>\n",
       "    </tr>\n",
       "    <tr>\n",
       "      <th>1</th>\n",
       "      <td>10100</td>\n",
       "      <td>50</td>\n",
       "      <td>30</td>\n",
       "      <td>2</td>\n",
       "      <td>60</td>\n",
       "      <td>1/6/2003 0:00</td>\n",
       "      <td>2013-01-06</td>\n",
       "      <td>Shipped</td>\n",
       "      <td>1</td>\n",
       "      <td>1</td>\n",
       "      <td>2013</td>\n",
       "      <td>500 ml</td>\n",
       "      <td>60</td>\n",
       "      <td>S18_2248</td>\n",
       "      <td>Sirikwa Hotel</td>\n",
       "      <td>1</td>\n",
       "    </tr>\n",
       "    <tr>\n",
       "      <th>2</th>\n",
       "      <td>10100</td>\n",
       "      <td>22</td>\n",
       "      <td>30</td>\n",
       "      <td>4</td>\n",
       "      <td>120</td>\n",
       "      <td>1/6/2003 0:00</td>\n",
       "      <td>2013-01-06</td>\n",
       "      <td>Shipped</td>\n",
       "      <td>1</td>\n",
       "      <td>1</td>\n",
       "      <td>2013</td>\n",
       "      <td>500 ml</td>\n",
       "      <td>92</td>\n",
       "      <td>S18_4409</td>\n",
       "      <td>Sirikwa Hotel</td>\n",
       "      <td>1</td>\n",
       "    </tr>\n",
       "    <tr>\n",
       "      <th>3</th>\n",
       "      <td>10100</td>\n",
       "      <td>49</td>\n",
       "      <td>30</td>\n",
       "      <td>1</td>\n",
       "      <td>30</td>\n",
       "      <td>1/6/2003 0:00</td>\n",
       "      <td>2013-01-06</td>\n",
       "      <td>Shipped</td>\n",
       "      <td>1</td>\n",
       "      <td>1</td>\n",
       "      <td>2013</td>\n",
       "      <td>500 ml</td>\n",
       "      <td>41</td>\n",
       "      <td>S24_3969</td>\n",
       "      <td>Sirikwa Hotel</td>\n",
       "      <td>1</td>\n",
       "    </tr>\n",
       "  </tbody>\n",
       "</table>\n",
       "</div>"
      ],
      "text/plain": [
       "   ORDERNUMBER  QUANTITYORDERED  PRICEEACH  ORDERLINENUMBER  SALES  \\\n",
       "0        10100               30         30                3     90   \n",
       "1        10100               50         30                2     60   \n",
       "2        10100               22         30                4    120   \n",
       "3        10100               49         30                1     30   \n",
       "\n",
       "       ORDERDATE ORDERDATE.1   STATUS  QTR_ID  MONTH_ID  YEAR_ID PRODUCTLINE  \\\n",
       "0  1/6/2003 0:00  2013-01-06  Shipped       1         1     2013      500 ml   \n",
       "1  1/6/2003 0:00  2013-01-06  Shipped       1         1     2013      500 ml   \n",
       "2  1/6/2003 0:00  2013-01-06  Shipped       1         1     2013      500 ml   \n",
       "3  1/6/2003 0:00  2013-01-06  Shipped       1         1     2013      500 ml   \n",
       "\n",
       "   MSRP PRODUCTCODE   CUSTOMERNAME  Month  \n",
       "0   170    S18_1749  Sirikwa Hotel      1  \n",
       "1    60    S18_2248  Sirikwa Hotel      1  \n",
       "2    92    S18_4409  Sirikwa Hotel      1  \n",
       "3    41    S24_3969  Sirikwa Hotel      1  "
      ]
     },
     "execution_count": 10,
     "metadata": {},
     "output_type": "execute_result"
    }
   ],
   "source": [
    "kaptagat_df.head(4)"
   ]
  },
  {
   "cell_type": "markdown",
   "id": "224102af-afea-4cec-ad9f-a3cffb0427a9",
   "metadata": {},
   "source": [
    "# 1. What was the best month for sales? How much was earned that month?"
   ]
  },
  {
   "cell_type": "code",
   "execution_count": 11,
   "id": "7b7941ae-adc6-47d0-a15c-358cf767b832",
   "metadata": {},
   "outputs": [
    {
     "name": "stdout",
     "output_type": "stream",
     "text": [
      "The best month for sales was Nov with earnings of $1,160,710.00\n"
     ]
    },
    {
     "data": {
      "image/png": "[encoded data removed]",
      "text/plain": [
       "<Figure size 640x480 with 1 Axes>"
      ]
     },
     "metadata": {},
     "output_type": "display_data"
    }
   ],
   "source": [
    "import calendar\n",
    "import warnings\n",
    "import pandas as pd\n",
    "import matplotlib.pyplot as plt\n",
    "from itertools import combinations\n",
    "from collections import Counter\n",
    "\n",
    "warnings.filterwarnings(\"ignore\")\n",
    "\n",
    "# Assuming kaptagat_df['Month'] already contains integer values from 1 to 12\n",
    "kaptagat_df['Month'] = kaptagat_df['Month'].fillna(0).astype(int)\n",
    "\n",
    "# Remove any rows where Month is 0 or invalid\n",
    "kaptagat_df = kaptagat_df[kaptagat_df['Month'].between(1, 12)]\n",
    "\n",
    "# Convert month numbers to abbreviated month names\n",
    "kaptagat_df['Month Name'] = kaptagat_df['Month'].apply(lambda x: calendar.month_abbr[x])\n",
    "\n",
    "# Group by month and calculate total sales for each month\n",
    "sales_by_month = kaptagat_df.groupby('Month Name')['SALES'].sum()\n",
    "\n",
    "# Ensure the months are in the correct order\n",
    "sales_by_month = sales_by_month.reindex(list(calendar.month_abbr)[1:])\n",
    "\n",
    "# Find the best month for sales and the corresponding earnings\n",
    "best_month = sales_by_month.idxmax()\n",
    "earnings_for_best_month = sales_by_month.max()\n",
    "\n",
    "print(f\"The best month for sales was {best_month} with earnings of ${earnings_for_best_month:,.2f}\")\n",
    "\n",
    "# Optionally, you can plot the sales by month\n",
    "sales_by_month.plot(kind='bar')\n",
    "plt.xlabel('Month')\n",
    "plt.ylabel('Sales')\n",
    "plt.title('Total Sales by Month')\n",
    "plt.show()\n"
   ]
  },
  {
   "cell_type": "markdown",
   "id": "5637a8fe-48b4-4a58-8f96-54fbff513fa7",
   "metadata": {},
   "source": [
    "# 2. What Top 5 Products had the Highest number of Sales?"
   ]
  },
  {
   "cell_type": "code",
   "execution_count": 12,
   "id": "d54b916c-adee-40f9-a3e1-9a3d1bf8a801",
   "metadata": {
    "scrolled": true
   },
   "outputs": [
    {
     "data": {
      "image/png": "[encoded data removed]",
      "text/plain": [
       "<Figure size 1000x600 with 1 Axes>"
      ]
     },
     "metadata": {},
     "output_type": "display_data"
    },
    {
     "name": "stdout",
     "output_type": "stream",
     "text": [
      "PRODUCTLINE\n",
      "20  Litre                  2748200\n",
      "5 litre                    1558250\n",
      "20 litre refill             636400\n",
      "300 ml  28 pieces crate     220000\n",
      "500 ml                      115020\n",
      "Name: SALES, dtype: int32\n"
     ]
    }
   ],
   "source": [
    "# Group by Product Line and calculate total sales for each Product Line\n",
    "Sales_by_productline = kaptagat_df.groupby('PRODUCTLINE')['SALES'].sum()\n",
    "\n",
    "# Sort the Product Line   by total sales in descending order and select the top 5\n",
    "top5_products = Sales_by_productline.sort_values(ascending=False).head(5)\n",
    "\n",
    "# Plot the top 5 Product Line\n",
    "plt.figure(figsize=(10, 6))\n",
    "plt.bar(top5_products.index, top5_products.values)\n",
    "plt.xticks(rotation=90, fontsize=8)\n",
    "plt.ylabel('Sales Amount')\n",
    "plt.xlabel('')\n",
    "plt.title('Top 5 Product line by Sales')\n",
    "plt.show()\n",
    "\n",
    "# Display the top 5 product lines and their sales amounts\n",
    "print(top5_products)\n"
   ]
  },
  {
   "cell_type": "markdown",
   "id": "a3f5c6d7-cae1-4f8b-a47c-c6dadc30c638",
   "metadata": {},
   "source": [
    "# 3. Top 5 Customers"
   ]
  },
  {
   "cell_type": "code",
   "execution_count": 13,
   "id": "e57b11e2-9b15-43ae-a98e-fc5ed21b0d1c",
   "metadata": {},
   "outputs": [
    {
     "data": {
      "image/png": "[encoded data removed]",
      "text/plain": [
       "<Figure size 1000x600 with 1 Axes>"
      ]
     },
     "metadata": {},
     "output_type": "display_data"
    },
    {
     "name": "stdout",
     "output_type": "stream",
     "text": [
      "CUSTOMERNAME\n",
      "Blueberry Villas             1308690\n",
      "Golden Palace Hotel           791395\n",
      "Boma Inn Eldoret              594480\n",
      "Eka Hotel Eldoret             514255\n",
      "Wagon Wheel Hotel Eldoret     509690\n",
      "Name: SALES, dtype: int32\n"
     ]
    }
   ],
   "source": [
    "# Group by customer name and calculate total sales for each customer name\n",
    "Sales_by_customers = kaptagat_df.groupby('CUSTOMERNAME')['SALES'].sum()\n",
    "\n",
    "# Sort the customer name  by total sales in descending order and select the top 5\n",
    "top5_customers = Sales_by_customers.sort_values(ascending=False).head(5)\n",
    "\n",
    "# Plot the top 5 customer names\n",
    "plt.figure(figsize=(10, 6))\n",
    "plt.bar(top5_customers.index, top5_customers.values)\n",
    "plt.xticks(rotation=90, fontsize=8)\n",
    "plt.ylabel('Sales Amount')\n",
    "plt.xlabel('Cutomer Name')\n",
    "plt.title('Top 5 Customer Name by Sales')\n",
    "plt.show()\n",
    "\n",
    "# Display the top 5 Customer and their sales amounts\n",
    "print(top5_customers)\n"
   ]
  },
  {
   "cell_type": "markdown",
   "id": "16f66e18-a7f6-431f-86e1-407ffb0339f4",
   "metadata": {},
   "source": [
    "# 4. What Bottom  5 Products had the Lowest number of Sales?"
   ]
  },
  {
   "cell_type": "code",
   "execution_count": 14,
   "id": "fb4af6fc-981b-4300-abb4-6f60b5576e39",
   "metadata": {},
   "outputs": [
    {
     "data": {
      "image/png": "[encoded data removed]",
      "text/plain": [
       "<Figure size 1000x600 with 1 Axes>"
      ]
     },
     "metadata": {},
     "output_type": "display_data"
    },
    {
     "name": "stdout",
     "output_type": "stream",
     "text": [
      "PRODUCTLINE\n",
      "300 ml                      55250\n",
      "1 Litre                     93650\n",
      "500 ml                     115020\n",
      "300 ml  28 pieces crate    220000\n",
      "20 litre refill            636400\n",
      "Name: SALES, dtype: int32\n"
     ]
    }
   ],
   "source": [
    "# Group by Product Line and calculate total sales for each Product Name\n",
    "Sales_by_productline = kaptagat_df.groupby('PRODUCTLINE')['SALES'].sum()\n",
    "\n",
    "# Sort the Product Line  by total sales in Ascending  order and select the top 5\n",
    "bottom_5_products = Sales_by_productline.sort_values(ascending=True).head(5)\n",
    "\n",
    "# Plot the bottom  5 Product Line \n",
    "plt.figure(figsize=(10, 6))\n",
    "plt.bar(bottom_5_products.index, bottom_5_products.values)\n",
    "plt.xticks(rotation=90, fontsize=8)\n",
    "plt.ylabel('Sales Amount')\n",
    "plt.xlabel('')\n",
    "plt.title('Bottom  5 Product line by Sales')\n",
    "plt.show()\n",
    "\n",
    "# Display the top 5 product lines and their sales amounts\n",
    "print(bottom_5_products)"
   ]
  },
  {
   "cell_type": "markdown",
   "id": "b532ab23-3a1c-4c9a-a79d-234ef72ed71f",
   "metadata": {},
   "source": [
    "# 5 . Bottom  5 Customers "
   ]
  },
  {
   "cell_type": "code",
   "execution_count": 15,
   "id": "0e136720-454a-4fb8-96f0-be50df9e9c9e",
   "metadata": {},
   "outputs": [
    {
     "data": {
      "image/png": "[encoded data removed]",
      "text/plain": [
       "<Figure size 1000x600 with 1 Axes>"
      ]
     },
     "metadata": {},
     "output_type": "display_data"
    },
    {
     "name": "stdout",
     "output_type": "stream",
     "text": [
      "CUSTOMERNAME\n",
      "Comfy Inn Hotel                       2295\n",
      "Chandarana Foodplus                   6730\n",
      "Noble Hotel and Conference Eldort    11805\n",
      "Kwinet Luxury Villa                  19030\n",
      "The Kolel Hotel and Suites           21020\n",
      "Name: SALES, dtype: int32\n"
     ]
    }
   ],
   "source": [
    "# Group by customer name and calculate total sales for each customer name\n",
    "Sales_by_customers = kaptagat_df.groupby('CUSTOMERNAME')['SALES'].sum()\n",
    "\n",
    "# Sort the customer name  by total sales in descending order and select the bottom  5\n",
    "bottom_5_customers = Sales_by_customers.sort_values(ascending=True).head(5)\n",
    "\n",
    "# Plot the bottom  5 customer \n",
    "plt.figure(figsize=(10, 6))\n",
    "plt.bar(bottom_5_customers.index, bottom_5_customers.values)\n",
    "plt.xticks(rotation=90, fontsize=8)\n",
    "plt.ylabel('Sales Amount')\n",
    "plt.xlabel('Cutomer Name')\n",
    "plt.title('Bottom  5 Customer Name by Sales')\n",
    "plt.show()\n",
    "\n",
    "# Display the top 5 Customer and their sales amounts\n",
    "print(bottom_5_customers)\n"
   ]
  },
  {
   "cell_type": "markdown",
   "id": "1f4f57b5-61fa-4f45-944a-f8706c627d7d",
   "metadata": {},
   "source": [
    "# 6 Conclusions\n"
   ]
  },
  {
   "cell_type": "markdown",
   "id": "75ea0137-b5c9-4e61-9841-1d1bcded4716",
   "metadata": {},
   "source": [
    "## 1 Which month has the highest sales\r\n",
    "The best month for sales was Nov with earnings of $1,160,710.00\r\n",
    "\r\n",
    "## 2.What are tte Top 5 Products Line\r\n",
    "20  Litre                  \r\n",
    "5 Litre                   \r\n",
    "20 Litre refill          \r\n",
    "300 ml  28 pieces crate  \r\n",
    "500 ml                  \r\n",
    "\r\n",
    "## 3.What are the top 5 Customers\r\n",
    "Blueberry Villas             \r\n",
    "Golden Palace Hotel          \r\n",
    "Eka Hotel Eldoret          \r\n",
    "Wagon Wheel Hotel Eldoret \r\n",
    "\r\n",
    "## 4.What are Bottom 5 Customers\r\n",
    "Comfy Inn Hotel                       \r\n",
    "Chandarana Foodplus                  \r\n",
    "Noble Hotel and Conference Eldoret\r\n",
    "Kwinet Luxury Villa               \r\n",
    "The Kolel Hotel and Suites       \r\n",
    "\r\n",
    "## 5.What are out bottom 5 products\r\n",
    "300 ml                      \r\n",
    "1 Litre                   \r\n",
    "500 ml                   \r\n",
    "300 ml  28 pieces crate \r\n",
    "20 Litre refill        \r\n",
    "\r\n",
    "We should increase the production of the 20 Litre bottle\r\n",
    "We should expand line of credit for our top customer Blueberry Villas \r\n",
    "00\n",
    "m 5 Products"
   ]
  },
  {
   "cell_type": "code",
   "execution_count": null,
   "id": "d0da7e8f-bbc3-437b-a5cc-33d5add13b75",
   "metadata": {},
   "outputs": [],
   "source": []
  }
 ],
 "metadata": {
  "kernelspec": {
   "display_name": "Python 3 (ipykernel)",
   "language": "python",
   "name": "python3"
  },
  "language_info": {
   "codemirror_mode": {
    "name": "ipython",
    "version": 3
   },
   "file_extension": ".py",
   "mimetype": "text/x-python",
   "name": "python",
   "nbconvert_exporter": "python",
   "pygments_lexer": "ipython3",
   "version": "3.11.7"
  }
 },
 "nbformat": 4,
 "nbformat_minor": 5
}
